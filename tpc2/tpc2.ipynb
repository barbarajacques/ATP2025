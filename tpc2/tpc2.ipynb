{
 "cells": [
  {
   "cell_type": "code",
   "execution_count": 6,
   "id": "b5b47d2c",
   "metadata": {},
   "outputs": [
    {
     "name": "stdout",
     "output_type": "stream",
     "text": [
      "bem vindo ao jogo 21 fósforos, deseja jogar em primeiro lugar? (s/n)\n",
      "eu escolho o número 2\n",
      "agora há 19 fósforos\n",
      "o número escolhido por si é 3\n",
      "eu escolho o número 2\n",
      "agora há 14 fósforos\n",
      "o número escolhido por si é 4\n",
      "eu escolho o número 1\n",
      "agora há 9 fósforos\n",
      "o número escolhido por si é 4\n",
      "eu escolho o número 1\n",
      "agora há 4 fósforos\n",
      "o número escolhido por si é 3\n",
      "sobra apenas o número 1, você ganhou o jogo\n"
     ]
    }
   ],
   "source": [
    "print (\"bem vindo ao jogo 21 fósforos, deseja jogar em primeiro lugar? (s/n)\")\n",
    "\n",
    "resposta1=input (\"s/n?\")\n",
    "if resposta1==(\"s\"):\n",
    "    nr=21\n",
    "    while nr>1:\n",
    "         na=int(input (\"digite o seu número(1,2,3 ou 4)\"))\n",
    "         while na not in [1,2,3,4] or na>(nr-1):\n",
    "            na=int(input (\"número inválido, digite um número(1,2,3 ou 4)\"))\n",
    "         print(\"o número escolhido por si é\", na)\n",
    "         nc=min(5-na, nr-1)\n",
    "         print (\"eu escolho o número\", nc)\n",
    "         nr=nr-na-nc\n",
    "         print (\"agora há\",nr, \"fósforos\")\n",
    "         if nr==1:     \n",
    "            print (\"sobra apenas o número 1, você perdeu o jogo\")\n",
    "            break\n",
    "\n",
    "else:\n",
    "    nc=2\n",
    "    nr=19\n",
    "    print(\"eu escolho o número 2\")\n",
    "    print(\"agora há 19 fósforos\")\n",
    "    while nr>1:\n",
    "        na=int(input (\"digite o seu número(1,2,3 ou 4)\"))\n",
    "        while na not in [1,2,3,4] or na>(nr-1):\n",
    "            na=int(input (\"número inválido, digite um número(1,2,3 ou 4)\"))\n",
    "        print(\"o número escolhido por si é\", na)\n",
    "        nr=nr-na\n",
    "        if nr==1:     \n",
    "                print (\"sobra apenas o número 1, você ganhou o jogo\")\n",
    "                break\n",
    "        nc=min(5-na, nr-1)\n",
    "        print(\"eu escolho o número\", nc)\n",
    "        nr=nr-nc\n",
    "        print (\"agora há\",nr, \"fósforos\")\n",
    "        if nr==1:     \n",
    "            print(\"sobra apenas o número 1, você ganhou o jogo\")\n",
    "            break\n",
    "        \n",
    "\n",
    "\n",
    "    \n",
    "\n"
   ]
  }
 ],
 "metadata": {
  "kernelspec": {
   "display_name": "Python 3",
   "language": "python",
   "name": "python3"
  },
  "language_info": {
   "codemirror_mode": {
    "name": "ipython",
    "version": 3
   },
   "file_extension": ".py",
   "mimetype": "text/x-python",
   "name": "python",
   "nbconvert_exporter": "python",
   "pygments_lexer": "ipython3",
   "version": "3.13.7"
  }
 },
 "nbformat": 4,
 "nbformat_minor": 5
}
